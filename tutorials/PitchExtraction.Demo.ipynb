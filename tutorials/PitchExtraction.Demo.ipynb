{
 "cells": [
  {
   "cell_type": "markdown",
   "metadata": {},
   "source": [
    "There is also a first iteration pitch extractor in the features package. A pitch extractor has a python dependency, [pretty midi](https://github.com/craffel/pretty-midi) that needs to be installed prior to pitch extraction. The first iteration of the pitch extractor works by iterating through the MIDI file and binning the pitches within a specific bin size (default is 2 seconds, the standard TR in fMRI experiments). The representative pitch assigned for each time bin is the highest pitch within that time bin."
   ]
  },
  {
   "cell_type": "code",
   "execution_count": null,
   "metadata": {
    "collapsed": false
   },
   "outputs": [],
   "source": [
    "%pylab\n",
    "%matplotlib inline\n",
    "from __future__ import division\n",
    "import matplotlib.pyplot as plt\n",
    "import os\n",
    "from music_feats.features import pitchextractor\n",
    "import pretty_midi\n",
    "import numpy as np\n",
    "\n",
    "print \"done importing\""
   ]
  },
  {
   "cell_type": "code",
   "execution_count": null,
   "metadata": {
    "collapsed": false
   },
   "outputs": [],
   "source": [
    "fpath = os.path.abspath(os.path.join(os.getcwd(), '..', 'tests', 'data'))\n",
    "fname = 'Beethoven_Op027No1-01_003_20090916-SMD.mid'\n",
    "\n",
    "full_fname = os.path.join(fpath, fname)"
   ]
  },
  {
   "cell_type": "markdown",
   "metadata": {},
   "source": [
    "### Pitch extraction"
   ]
  },
  {
   "cell_type": "markdown",
   "metadata": {},
   "source": [
    "The parameters needed for the pitch extractor are:\n",
    "+ fname : the midi filename\n",
    "+ num_instruments : the number of instruments in the midi file\n",
    "+ binsize : the time bin size to use when grouping the notes in the midi file\n",
    "\n",
    "See documentation for more information.\n",
    "\n",
    "NOTE: The first iteration of the pitch extractor is only implemented for 1 instrument only. Needs to be modified before being used for multiple instruments at once."
   ]
  },
  {
   "cell_type": "code",
   "execution_count": null,
   "metadata": {
    "collapsed": true
   },
   "outputs": [],
   "source": [
    "num_instruments = 1\n",
    "binsize = 2.0"
   ]
  },
  {
   "cell_type": "code",
   "execution_count": null,
   "metadata": {
    "collapsed": false
   },
   "outputs": [],
   "source": [
    "pitches = pitchextractor.pitchExtraction(full_fname, num_instruments, binsize)"
   ]
  },
  {
   "cell_type": "code",
   "execution_count": null,
   "metadata": {
    "collapsed": false
   },
   "outputs": [],
   "source": [
    "print pitches.shape"
   ]
  },
  {
   "cell_type": "code",
   "execution_count": null,
   "metadata": {
    "collapsed": false
   },
   "outputs": [],
   "source": [
    "plt.figure()\n",
    "plt.plot(pitches)\n",
    "plt.xlabel('Time')\n",
    "plt.title('Extracted pitches')"
   ]
  },
  {
   "cell_type": "markdown",
   "metadata": {},
   "source": [
    "Note that the output is in terms of integers. You can use pretty_midi's functions to convert between integer representation, note name representation, and frequency representation (Hz)."
   ]
  },
  {
   "cell_type": "code",
   "execution_count": null,
   "metadata": {
    "collapsed": true
   },
   "outputs": [],
   "source": [
    "pitches_note_name = [pretty_midi.note_number_to_name(pitch) for pitch in pitches]"
   ]
  },
  {
   "cell_type": "code",
   "execution_count": null,
   "metadata": {
    "collapsed": true
   },
   "outputs": [],
   "source": [
    "pitches_hz = [pretty_midi.note_number_to_hz(pitch) for pitch in pitches]"
   ]
  },
  {
   "cell_type": "code",
   "execution_count": null,
   "metadata": {
    "collapsed": false
   },
   "outputs": [],
   "source": [
    "plt.figure()\n",
    "plt.plot(pitches_hz)\n",
    "plt.title('Pitches in frequency representation')\n",
    "plt.xlabel('Time')\n",
    "plt.ylabel('Hz')"
   ]
  },
  {
   "cell_type": "code",
   "execution_count": null,
   "metadata": {
    "collapsed": false
   },
   "outputs": [],
   "source": [
    "print 'Pitches in note name representation'\n",
    "print pitches_note_name"
   ]
  }
 ],
 "metadata": {
  "kernelspec": {
   "display_name": "Python 3",
   "language": "python",
   "name": "python3"
  },
  "language_info": {
   "codemirror_mode": {
    "name": "ipython",
    "version": 3
   },
   "file_extension": ".py",
   "mimetype": "text/x-python",
   "name": "python",
   "nbconvert_exporter": "python",
   "pygments_lexer": "ipython3",
   "version": "3.5.2+"
  }
 },
 "nbformat": 4,
 "nbformat_minor": 0
}
